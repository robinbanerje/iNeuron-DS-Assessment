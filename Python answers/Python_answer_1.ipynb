{
  "nbformat": 4,
  "nbformat_minor": 0,
  "metadata": {
    "colab": {
      "provenance": []
    },
    "kernelspec": {
      "name": "python3",
      "display_name": "Python 3"
    },
    "language_info": {
      "name": "python"
    }
  },
  "cells": [
    {
      "cell_type": "markdown",
      "source": [
        "Question: 1\n",
        "\n",
        "\n",
        "You have an input dictionary given,\n",
        "```\n",
        "\n",
        "input_dict = {\"abc\":{\"def\":{\"ghi\":{\"jkl\":{\"mno\":{\"pqr\":{\"stu\":{\"vwx\":{\"yz\":\"you are finally here !!!\"}}}}}}}}}\n",
        "```\n",
        "\n",
        "Task:  You have to write a Python function that will take this input and print it like that,\n",
        "\n",
        "```\n",
        "output = {\"abc\":[\"def\",\"ghi\",\"jkl\",\"mno\",\"pqr\",\"stu\",\"vwx\",\"yz\"],\n",
        " \"def\":[\"ghi\",\"jkl\",\"mno\",\"pqr\",\"stu\",\"vwx\",\"yz\"],\n",
        " \"ghi\":[\"jkl\",\"mno\",\"pqr\",\"stu\",\"vwx\",\"yz\"],\n",
        " \"jkl\":[\"mno\",\"pqr\",\"stu\",\"vwx\",\"yz\"],\n",
        " \"mno\":[\"pqr\",\"stu\",\"vwx\",\"yz\"],\n",
        " \"pqr\":[\"stu\",\"vwx\",\"yz\"],\n",
        " \"stu\":[\"vwx\",\"yz\"],\n",
        " \"vwx\":[\"yz\"],\n",
        " \"yz\":[\"you are finally here !!!\"]}\n",
        " ```\n",
        " ----------------------------------------------------------------\n",
        ""
      ],
      "metadata": {
        "id": "DEkvxjMpNSsL"
      }
    },
    {
      "cell_type": "code",
      "execution_count": 12,
      "metadata": {
        "id": "aEMY0v8iLkLx"
      },
      "outputs": [],
      "source": [
        "def flatten_dict(input_dict, parent_key=\"\", output_dict={}):\n",
        "  for key, value in input_dict.items():\n",
        "    combined_key = parent_key + key if parent_key else key\n",
        "    if isinstance(value, dict):\n",
        "      flatten_dict(value, combined_key + \".\", output_dict)\n",
        "    else:\n",
        "      output_dict.setdefault(combined_key, []).append(value)\n",
        "  return output_dict"
      ]
    },
    {
      "cell_type": "code",
      "source": [
        "input_dict = {\"abc\":{\"def\":{\"ghi\":{\"jkl\":{\"mno\":{\"pqr\":{\"stu\":{\"vwx\":{\"yz\":\"you are finally here !!!\"}}}}}}}}}\n",
        "\n",
        "print(flatten_dict(input_dict))"
      ],
      "metadata": {
        "colab": {
          "base_uri": "https://localhost:8080/"
        },
        "id": "0PX06jDlPcS5",
        "outputId": "cd76e282-4e0f-4e4f-9538-fc1529748d71"
      },
      "execution_count": 13,
      "outputs": [
        {
          "output_type": "stream",
          "name": "stdout",
          "text": [
            "{'abc.def.ghi.jkl.mno.pqr.stu.vwx.yz': ['you are finally here !!!']}\n"
          ]
        }
      ]
    }
  ]
}