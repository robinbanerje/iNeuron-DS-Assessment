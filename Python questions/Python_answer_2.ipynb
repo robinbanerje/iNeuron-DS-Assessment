{
  "nbformat": 4,
  "nbformat_minor": 0,
  "metadata": {
    "colab": {
      "provenance": []
    },
    "kernelspec": {
      "name": "python3",
      "display_name": "Python 3"
    },
    "language_info": {
      "name": "python"
    }
  },
  "cells": [
    {
      "cell_type": "markdown",
      "source": [
        "Question: 2\n",
        "\n",
        "\n",
        "Given an array of length ‘N’, where each element denotes the position of a stall. Now you have ‘N’ stalls and an integer ‘K’ which denotes the number of horses that are mad. To prevent the horses from hurting each other, you need to assign the horses to the stalls, such that the minimum distance between any two of them is as large as possible. Return the largest minimum distance.\n",
        "```\n",
        "array: 1,2,4,8,9  &  k=3\n",
        "O/P: 3\n",
        "```\n",
        "Explanation: 1st horse at stall 1, 2nd horse at stall 4 and 3rd horse at stall 8"
      ],
      "metadata": {
        "id": "VoWTwFRwRucv"
      }
    },
    {
      "cell_type": "code",
      "execution_count": 3,
      "metadata": {
        "colab": {
          "base_uri": "https://localhost:8080/"
        },
        "id": "3kEFpBGJRtWE",
        "outputId": "668a830c-e83d-433c-d73a-e5cbe90ed07d"
      },
      "outputs": [
        {
          "output_type": "stream",
          "name": "stdout",
          "text": [
            "3\n"
          ]
        }
      ],
      "source": [
        "def min_distance_between_horses(stalls, k):\n",
        "    stalls.sort()\n",
        "    low, high = 1, stalls[-1] - stalls[0]\n",
        "\n",
        "    while low < high:\n",
        "        mid = (low + high) // 2\n",
        "        count = 1\n",
        "        start = stalls[0]\n",
        "\n",
        "        for stall in stalls:\n",
        "            if stall - start >= mid:\n",
        "                count += 1\n",
        "                start = stall\n",
        "\n",
        "        if count >= k:\n",
        "            low = mid + 1\n",
        "        else:\n",
        "            high = mid\n",
        "\n",
        "    return low - 1\n",
        "\n",
        "stalls = [1, 2, 4, 8, 9]\n",
        "k = 3\n",
        "output = min_distance_between_horses(stalls, k)\n",
        "print(output)"
      ]
    },
    {
      "cell_type": "code",
      "source": [],
      "metadata": {
        "id": "q3QxSpR3Sori"
      },
      "execution_count": null,
      "outputs": []
    }
  ]
}