{
  "nbformat": 4,
  "nbformat_minor": 0,
  "metadata": {
    "colab": {
      "provenance": []
    },
    "kernelspec": {
      "name": "python3",
      "display_name": "Python 3"
    },
    "language_info": {
      "name": "python"
    }
  },
  "cells": [
    {
      "cell_type": "markdown",
      "source": [
        "Question: 4\n",
        "\n",
        "Given an array nums of n integers, return an array of all the unique quadruplets [nums[a], nums[b], nums[c], nums[d]] such that:\n",
        "```\n",
        "   a) 0 <= a, b, c, d < n\n",
        "   b) a, b, c, and d are distinct.\n",
        "   c) nums[a] + nums[b] + nums[c] + nums[d] == target\n",
        "```"
      ],
      "metadata": {
        "id": "iaye9XTOYBLp"
      }
    },
    {
      "cell_type": "code",
      "execution_count": 8,
      "metadata": {
        "id": "YpWqqiJaXeIj"
      },
      "outputs": [],
      "source": [
        "def quadruplets(nums, target):\n",
        "\n",
        "    nums.sort()\n",
        "    n = len(nums)\n",
        "    result = []\n",
        "\n",
        "    for i in range(n - 3):\n",
        "        if i > 0 and nums[i] == nums[i - 1]:\n",
        "            continue\n",
        "\n",
        "        for j in range(i + 1, n - 2):\n",
        "            if j > i + 1 and nums[j] == nums[j - 1]:\n",
        "                continue\n",
        "\n",
        "            left = j + 1\n",
        "            right = n - 1\n",
        "\n",
        "            while left < right:\n",
        "                total = nums[i] + nums[j] + nums[left] + nums[right]\n",
        "\n",
        "                if total == target:\n",
        "                    result.append([nums[i], nums[j], nums[left], nums[right]])\n",
        "                    while left < right and nums[left] == nums[left + 1]:\n",
        "                        left += 1\n",
        "                    while left < right and nums[right] == nums[right - 1]:\n",
        "                        right -= 1\n",
        "                    left += 1\n",
        "                    right -= 1\n",
        "                elif total < target:\n",
        "                    left += 1\n",
        "                else:\n",
        "                    right -= 1\n",
        "\n",
        "    return result"
      ]
    },
    {
      "cell_type": "code",
      "source": [
        "nums = [100, 0, -100, 0, -200, 200]\n",
        "target = 0\n",
        "print(quadruplets(nums, target))"
      ],
      "metadata": {
        "colab": {
          "base_uri": "https://localhost:8080/"
        },
        "id": "vYUQmi5_Zeri",
        "outputId": "19dac266-d8f2-4f93-e07a-c3ec6600fed5"
      },
      "execution_count": 9,
      "outputs": [
        {
          "output_type": "stream",
          "name": "stdout",
          "text": [
            "[[-200, -100, 100, 200], [-200, 0, 0, 200], [-100, 0, 0, 100]]\n"
          ]
        }
      ]
    },
    {
      "cell_type": "code",
      "source": [
        "nums = [-1,-5,-5,-3,2,5,-4,-5]\n",
        "target = -7\n",
        "print(quadruplets(nums, target))"
      ],
      "metadata": {
        "colab": {
          "base_uri": "https://localhost:8080/"
        },
        "id": "S2k0sY3AZhJV",
        "outputId": "605756fb-4e7a-4c3e-baf9-947dcc6cca34"
      },
      "execution_count": 11,
      "outputs": [
        {
          "output_type": "stream",
          "name": "stdout",
          "text": [
            "[[-5, -4, -3, 5], [-5, -3, -1, 2]]\n"
          ]
        }
      ]
    },
    {
      "cell_type": "code",
      "source": [],
      "metadata": {
        "id": "bTaVqv8AbB-Q"
      },
      "execution_count": null,
      "outputs": []
    }
  ]
}